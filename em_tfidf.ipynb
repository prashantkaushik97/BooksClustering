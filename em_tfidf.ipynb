{
  "cells": [
    {
      "cell_type": "code",
      "execution_count": 1,
      "metadata": {
        "id": "I6UZ-cgVwMiE"
      },
      "outputs": [],
      "source": [
        "import pandas as pd\n",
        "import nltk\n",
        "import string\n",
        "from nltk.corpus import stopwords\n",
        "from nltk.stem import WordNetLemmatizer\n",
        "from sklearn.preprocessing import LabelEncoder\n",
        "from PIL import Image\n",
        "from wordcloud import WordCloud\n",
        "import matplotlib.pyplot as plt\n",
        "from sklearn.feature_extraction.text import TfidfVectorizer\n",
        "from sklearn.model_selection import train_test_split\n",
        "from sklearn.model_selection import cross_val_score\n",
        "from sklearn.cluster import KMeans"
      ]
    },
    {
      "cell_type": "code",
      "execution_count": 2,
      "metadata": {
        "id": "zFx9PFD9wQsy"
      },
      "outputs": [],
      "source": [
        "import numpy as np\n",
        "#import pandas as pd\n",
        "#import matplotlib.pyplot as plt\n",
        "import matplotlib.cm as cm\n",
        "\n",
        "#from sklearn.cluster import MiniBatchKMeans\n",
        "#from sklearn.feature_extraction.text import TfidfVectorizer\n",
        "from sklearn.decomposition import PCA\n",
        "from sklearn.manifold import TSNE"
      ]
    },
    {
      "cell_type": "code",
      "execution_count": 3,
      "metadata": {
        "colab": {
          "base_uri": "https://localhost:8080/"
        },
        "id": "u8i3UsHWwTFI",
        "outputId": "6ba37d8e-fc35-42b7-b95a-c028148bf7fb"
      },
      "outputs": [
        {
          "output_type": "stream",
          "name": "stdout",
          "text": [
            "[nltk_data] Downloading package wordnet to /root/nltk_data...\n",
            "[nltk_data]   Unzipping corpora/wordnet.zip.\n",
            "[nltk_data] Downloading package stopwords to /root/nltk_data...\n",
            "[nltk_data]   Unzipping corpora/stopwords.zip.\n"
          ]
        },
        {
          "output_type": "execute_result",
          "data": {
            "text/plain": [
              "True"
            ]
          },
          "metadata": {},
          "execution_count": 3
        }
      ],
      "source": [
        "nltk.download('wordnet')\n",
        "nltk.download('stopwords')"
      ]
    },
    {
      "cell_type": "code",
      "execution_count": 4,
      "metadata": {
        "id": "1d4abBcuwVyZ"
      },
      "outputs": [],
      "source": [
        "#Upload CSV to session storage\n",
        "books_sample = pd.read_csv('/content/books_data (1).csv')"
      ]
    },
    {
      "cell_type": "code",
      "execution_count": 5,
      "metadata": {
        "colab": {
          "base_uri": "https://localhost:8080/",
          "height": 423
        },
        "id": "kJGJj-QtweAC",
        "outputId": "880d0166-3b03-4f13-821d-dbd5ecc37635"
      },
      "outputs": [
        {
          "output_type": "execute_result",
          "data": {
            "text/html": [
              "\n",
              "  <div id=\"df-a628ff1b-246b-4813-bded-c6667d87f1e3\">\n",
              "    <div class=\"colab-df-container\">\n",
              "      <div>\n",
              "<style scoped>\n",
              "    .dataframe tbody tr th:only-of-type {\n",
              "        vertical-align: middle;\n",
              "    }\n",
              "\n",
              "    .dataframe tbody tr th {\n",
              "        vertical-align: top;\n",
              "    }\n",
              "\n",
              "    .dataframe thead th {\n",
              "        text-align: right;\n",
              "    }\n",
              "</style>\n",
              "<table border=\"1\" class=\"dataframe\">\n",
              "  <thead>\n",
              "    <tr style=\"text-align: right;\">\n",
              "      <th></th>\n",
              "      <th>Unnamed: 0</th>\n",
              "      <th>Author</th>\n",
              "      <th>Text</th>\n",
              "    </tr>\n",
              "  </thead>\n",
              "  <tbody>\n",
              "    <tr>\n",
              "      <th>0</th>\n",
              "      <td>0</td>\n",
              "      <td>a</td>\n",
              "      <td>the next second he had raised the surprised Fi...</td>\n",
              "    </tr>\n",
              "    <tr>\n",
              "      <th>1</th>\n",
              "      <td>1</td>\n",
              "      <td>a</td>\n",
              "      <td>“You’re too young to be a brigadier-general, a...</td>\n",
              "    </tr>\n",
              "    <tr>\n",
              "      <th>2</th>\n",
              "      <td>2</td>\n",
              "      <td>a</td>\n",
              "      <td>Kapay. He was scarcely older than Phil, and ye...</td>\n",
              "    </tr>\n",
              "    <tr>\n",
              "      <th>3</th>\n",
              "      <td>3</td>\n",
              "      <td>a</td>\n",
              "      <td>we had in the dago country and up with them pi...</td>\n",
              "    </tr>\n",
              "    <tr>\n",
              "      <th>4</th>\n",
              "      <td>4</td>\n",
              "      <td>a</td>\n",
              "      <td>now being idly collected. Into these spacious ...</td>\n",
              "    </tr>\n",
              "    <tr>\n",
              "      <th>...</th>\n",
              "      <td>...</td>\n",
              "      <td>...</td>\n",
              "      <td>...</td>\n",
              "    </tr>\n",
              "    <tr>\n",
              "      <th>995</th>\n",
              "      <td>995</td>\n",
              "      <td>e</td>\n",
              "      <td>Illustrated. 12mo. Cloth, $1.50.CHRISTINE'S CA...</td>\n",
              "    </tr>\n",
              "    <tr>\n",
              "      <th>996</th>\n",
              "      <td>996</td>\n",
              "      <td>e</td>\n",
              "      <td>to pour in, at first in tens and then in hundr...</td>\n",
              "    </tr>\n",
              "    <tr>\n",
              "      <th>997</th>\n",
              "      <td>997</td>\n",
              "      <td>e</td>\n",
              "      <td>singular one.\"Until the shocks of the volcanoe...</td>\n",
              "    </tr>\n",
              "    <tr>\n",
              "      <th>998</th>\n",
              "      <td>998</td>\n",
              "      <td>e</td>\n",
              "      <td>islands only appeared in the months of steady ...</td>\n",
              "    </tr>\n",
              "    <tr>\n",
              "      <th>999</th>\n",
              "      <td>999</td>\n",
              "      <td>e</td>\n",
              "      <td>which is illustrated by a very curious anecdot...</td>\n",
              "    </tr>\n",
              "  </tbody>\n",
              "</table>\n",
              "<p>1000 rows × 3 columns</p>\n",
              "</div>\n",
              "      <button class=\"colab-df-convert\" onclick=\"convertToInteractive('df-a628ff1b-246b-4813-bded-c6667d87f1e3')\"\n",
              "              title=\"Convert this dataframe to an interactive table.\"\n",
              "              style=\"display:none;\">\n",
              "        \n",
              "  <svg xmlns=\"http://www.w3.org/2000/svg\" height=\"24px\"viewBox=\"0 0 24 24\"\n",
              "       width=\"24px\">\n",
              "    <path d=\"M0 0h24v24H0V0z\" fill=\"none\"/>\n",
              "    <path d=\"M18.56 5.44l.94 2.06.94-2.06 2.06-.94-2.06-.94-.94-2.06-.94 2.06-2.06.94zm-11 1L8.5 8.5l.94-2.06 2.06-.94-2.06-.94L8.5 2.5l-.94 2.06-2.06.94zm10 10l.94 2.06.94-2.06 2.06-.94-2.06-.94-.94-2.06-.94 2.06-2.06.94z\"/><path d=\"M17.41 7.96l-1.37-1.37c-.4-.4-.92-.59-1.43-.59-.52 0-1.04.2-1.43.59L10.3 9.45l-7.72 7.72c-.78.78-.78 2.05 0 2.83L4 21.41c.39.39.9.59 1.41.59.51 0 1.02-.2 1.41-.59l7.78-7.78 2.81-2.81c.8-.78.8-2.07 0-2.86zM5.41 20L4 18.59l7.72-7.72 1.47 1.35L5.41 20z\"/>\n",
              "  </svg>\n",
              "      </button>\n",
              "      \n",
              "  <style>\n",
              "    .colab-df-container {\n",
              "      display:flex;\n",
              "      flex-wrap:wrap;\n",
              "      gap: 12px;\n",
              "    }\n",
              "\n",
              "    .colab-df-convert {\n",
              "      background-color: #E8F0FE;\n",
              "      border: none;\n",
              "      border-radius: 50%;\n",
              "      cursor: pointer;\n",
              "      display: none;\n",
              "      fill: #1967D2;\n",
              "      height: 32px;\n",
              "      padding: 0 0 0 0;\n",
              "      width: 32px;\n",
              "    }\n",
              "\n",
              "    .colab-df-convert:hover {\n",
              "      background-color: #E2EBFA;\n",
              "      box-shadow: 0px 1px 2px rgba(60, 64, 67, 0.3), 0px 1px 3px 1px rgba(60, 64, 67, 0.15);\n",
              "      fill: #174EA6;\n",
              "    }\n",
              "\n",
              "    [theme=dark] .colab-df-convert {\n",
              "      background-color: #3B4455;\n",
              "      fill: #D2E3FC;\n",
              "    }\n",
              "\n",
              "    [theme=dark] .colab-df-convert:hover {\n",
              "      background-color: #434B5C;\n",
              "      box-shadow: 0px 1px 3px 1px rgba(0, 0, 0, 0.15);\n",
              "      filter: drop-shadow(0px 1px 2px rgba(0, 0, 0, 0.3));\n",
              "      fill: #FFFFFF;\n",
              "    }\n",
              "  </style>\n",
              "\n",
              "      <script>\n",
              "        const buttonEl =\n",
              "          document.querySelector('#df-a628ff1b-246b-4813-bded-c6667d87f1e3 button.colab-df-convert');\n",
              "        buttonEl.style.display =\n",
              "          google.colab.kernel.accessAllowed ? 'block' : 'none';\n",
              "\n",
              "        async function convertToInteractive(key) {\n",
              "          const element = document.querySelector('#df-a628ff1b-246b-4813-bded-c6667d87f1e3');\n",
              "          const dataTable =\n",
              "            await google.colab.kernel.invokeFunction('convertToInteractive',\n",
              "                                                     [key], {});\n",
              "          if (!dataTable) return;\n",
              "\n",
              "          const docLinkHtml = 'Like what you see? Visit the ' +\n",
              "            '<a target=\"_blank\" href=https://colab.research.google.com/notebooks/data_table.ipynb>data table notebook</a>'\n",
              "            + ' to learn more about interactive tables.';\n",
              "          element.innerHTML = '';\n",
              "          dataTable['output_type'] = 'display_data';\n",
              "          await google.colab.output.renderOutput(dataTable, element);\n",
              "          const docLink = document.createElement('div');\n",
              "          docLink.innerHTML = docLinkHtml;\n",
              "          element.appendChild(docLink);\n",
              "        }\n",
              "      </script>\n",
              "    </div>\n",
              "  </div>\n",
              "  "
            ],
            "text/plain": [
              "     Unnamed: 0 Author                                               Text\n",
              "0             0      a  the next second he had raised the surprised Fi...\n",
              "1             1      a  “You’re too young to be a brigadier-general, a...\n",
              "2             2      a  Kapay. He was scarcely older than Phil, and ye...\n",
              "3             3      a  we had in the dago country and up with them pi...\n",
              "4             4      a  now being idly collected. Into these spacious ...\n",
              "..          ...    ...                                                ...\n",
              "995         995      e  Illustrated. 12mo. Cloth, $1.50.CHRISTINE'S CA...\n",
              "996         996      e  to pour in, at first in tens and then in hundr...\n",
              "997         997      e  singular one.\"Until the shocks of the volcanoe...\n",
              "998         998      e  islands only appeared in the months of steady ...\n",
              "999         999      e  which is illustrated by a very curious anecdot...\n",
              "\n",
              "[1000 rows x 3 columns]"
            ]
          },
          "metadata": {},
          "execution_count": 5
        }
      ],
      "source": [
        "books_sample"
      ]
    },
    {
      "cell_type": "code",
      "execution_count": 6,
      "metadata": {
        "id": "-VtrH8qwwg03"
      },
      "outputs": [],
      "source": [
        "x = books_sample[\"Text\"] "
      ]
    },
    {
      "cell_type": "code",
      "source": [
        "from nltk.tokenize import word_tokenize\n",
        "from nltk.corpus import wordnet as wn\n",
        "from collections import defaultdict\n",
        "from nltk import pos_tag\n"
      ],
      "metadata": {
        "id": "-nn7WHU96Tsl"
      },
      "execution_count": 7,
      "outputs": []
    },
    {
      "cell_type": "code",
      "source": [
        "import nltk\n",
        "nltk.download('punkt')"
      ],
      "metadata": {
        "colab": {
          "base_uri": "https://localhost:8080/"
        },
        "id": "t-1EmRTN6hEu",
        "outputId": "5e76305d-ebbe-4f37-cfa4-9ab991f19980"
      },
      "execution_count": 8,
      "outputs": [
        {
          "output_type": "stream",
          "name": "stdout",
          "text": [
            "[nltk_data] Downloading package punkt to /root/nltk_data...\n",
            "[nltk_data]   Unzipping tokenizers/punkt.zip.\n"
          ]
        },
        {
          "output_type": "execute_result",
          "data": {
            "text/plain": [
              "True"
            ]
          },
          "metadata": {},
          "execution_count": 8
        }
      ]
    },
    {
      "cell_type": "code",
      "source": [
        "nltk.download('averaged_perceptron_tagger')"
      ],
      "metadata": {
        "colab": {
          "base_uri": "https://localhost:8080/"
        },
        "id": "ORmGPgLL6oia",
        "outputId": "688c974a-24ce-42d2-ee51-3bfac8bf64e6"
      },
      "execution_count": 9,
      "outputs": [
        {
          "output_type": "stream",
          "name": "stdout",
          "text": [
            "[nltk_data] Downloading package averaged_perceptron_tagger to\n",
            "[nltk_data]     /root/nltk_data...\n",
            "[nltk_data]   Unzipping taggers/averaged_perceptron_tagger.zip.\n"
          ]
        },
        {
          "output_type": "execute_result",
          "data": {
            "text/plain": [
              "True"
            ]
          },
          "metadata": {},
          "execution_count": 9
        }
      ]
    },
    {
      "cell_type": "code",
      "source": [
        "#Remove blank rows if any.\n",
        "books_sample[\"Text\"].dropna(inplace=True)\n",
        "#Change all the text to lower case.\n",
        "books_sample[\"Text\"] = [entry.lower() for entry in books_sample[\"Text\"]]\n",
        "#Tokenization\n",
        "books_sample[\"Text\"]= [word_tokenize(entry) for entry in books_sample[\"Text\"]]\n",
        "#Remove Stop words, Non-Numeric and perfom Word Stemming/Lemmenting.\n",
        "tag_map = defaultdict(lambda : wn.NOUN)\n",
        "tag_map['J'] = wn.ADJ\n",
        "tag_map['V'] = wn.VERB\n",
        "tag_map['R'] = wn.ADV\n",
        "for index,entry in enumerate(books_sample[\"Text\"]):\n",
        "  Final_words = []\n",
        "  word_Lemmatized = WordNetLemmatizer()\n",
        "  for word, tag in pos_tag(entry):\n",
        "    if word not in stopwords.words('english') and word.isalpha():\n",
        "      word_Final = word_Lemmatized.lemmatize(word,tag_map[tag[0]])\n",
        "      Final_words.append(word_Final)\n",
        "    # The final processed set of words for each iteration will be stored in 'text_final'\n",
        "  books_sample.loc[index,'text_final'] = str(Final_words)"
      ],
      "metadata": {
        "id": "HrXwhCY635Td"
      },
      "execution_count": 10,
      "outputs": []
    },
    {
      "cell_type": "code",
      "execution_count": null,
      "metadata": {
        "id": "QSuPjLnZwjEF"
      },
      "outputs": [],
      "source": [
        "# lemmatiser = WordNetLemmatizer()\n",
        "# #Add a condition to check for digits\n",
        "# def text_process(tex):\n",
        "#     # 1. Removal of Punctuation Marks \n",
        "#     nopunct=[char for char in tex if char not in string.punctuation]\n",
        "#     nopunct=''.join(nopunct)\n",
        "#     # 2. Lemmatisation \n",
        "#     a=''\n",
        "#     i=0\n",
        "#     for i in range(len(nopunct.split())):\n",
        "#         b=lemmatiser.lemmatize(nopunct.split()[i], pos=\"v\")\n",
        "#         a=a+b+' '\n",
        "#     # 3. Removal of Stopwords\n",
        "#     return [word for word in a.split() if word.lower() not \n",
        "#             in stopwords.words('english')]"
      ]
    },
    {
      "cell_type": "code",
      "source": [
        "books_sample"
      ],
      "metadata": {
        "colab": {
          "base_uri": "https://localhost:8080/",
          "height": 423
        },
        "id": "t6XlKZaY7L9v",
        "outputId": "785e7d01-9e6a-4493-9752-dcf3a2ca3653"
      },
      "execution_count": 11,
      "outputs": [
        {
          "output_type": "execute_result",
          "data": {
            "text/html": [
              "\n",
              "  <div id=\"df-97419dcb-ea46-4db5-871f-aa2bae93dd60\">\n",
              "    <div class=\"colab-df-container\">\n",
              "      <div>\n",
              "<style scoped>\n",
              "    .dataframe tbody tr th:only-of-type {\n",
              "        vertical-align: middle;\n",
              "    }\n",
              "\n",
              "    .dataframe tbody tr th {\n",
              "        vertical-align: top;\n",
              "    }\n",
              "\n",
              "    .dataframe thead th {\n",
              "        text-align: right;\n",
              "    }\n",
              "</style>\n",
              "<table border=\"1\" class=\"dataframe\">\n",
              "  <thead>\n",
              "    <tr style=\"text-align: right;\">\n",
              "      <th></th>\n",
              "      <th>Unnamed: 0</th>\n",
              "      <th>Author</th>\n",
              "      <th>Text</th>\n",
              "      <th>text_final</th>\n",
              "    </tr>\n",
              "  </thead>\n",
              "  <tbody>\n",
              "    <tr>\n",
              "      <th>0</th>\n",
              "      <td>0</td>\n",
              "      <td>a</td>\n",
              "      <td>[the, next, second, he, had, raised, the, surp...</td>\n",
              "      <td>['next', 'second', 'raise', 'surprised', 'fili...</td>\n",
              "    </tr>\n",
              "    <tr>\n",
              "      <th>1</th>\n",
              "      <td>1</td>\n",
              "      <td>a</td>\n",
              "      <td>[“, you, ’, re, too, young, to, be, a, brigadi...</td>\n",
              "      <td>['young', 'although', 'get', 'star', 'phil', '...</td>\n",
              "    </tr>\n",
              "    <tr>\n",
              "      <th>2</th>\n",
              "      <td>2</td>\n",
              "      <td>a</td>\n",
              "      <td>[kapay, ., he, was, scarcely, older, than, phi...</td>\n",
              "      <td>['kapay', 'scarcely', 'old', 'phil', 'yet', 'h...</td>\n",
              "    </tr>\n",
              "    <tr>\n",
              "      <th>3</th>\n",
              "      <td>3</td>\n",
              "      <td>a</td>\n",
              "      <td>[we, had, in, the, dago, country, and, up, wit...</td>\n",
              "      <td>['dago', 'country', 'pigtailed', 'midshipman',...</td>\n",
              "    </tr>\n",
              "    <tr>\n",
              "      <th>4</th>\n",
              "      <td>4</td>\n",
              "      <td>a</td>\n",
              "      <td>[now, being, idly, collected, ., into, these, ...</td>\n",
              "      <td>['idly', 'collect', 'spacious', 'storehouses',...</td>\n",
              "    </tr>\n",
              "    <tr>\n",
              "      <th>...</th>\n",
              "      <td>...</td>\n",
              "      <td>...</td>\n",
              "      <td>...</td>\n",
              "      <td>...</td>\n",
              "    </tr>\n",
              "    <tr>\n",
              "      <th>995</th>\n",
              "      <td>995</td>\n",
              "      <td>e</td>\n",
              "      <td>[illustrated, ., 12mo, ., cloth, ,, $, 1.50.ch...</td>\n",
              "      <td>['illustrate', 'cloth', 'career', 'story', 'gi...</td>\n",
              "    </tr>\n",
              "    <tr>\n",
              "      <th>996</th>\n",
              "      <td>996</td>\n",
              "      <td>e</td>\n",
              "      <td>[to, pour, in, ,, at, first, in, tens, and, th...</td>\n",
              "      <td>['pour', 'first', 'ten', 'hundred', 'sound', '...</td>\n",
              "    </tr>\n",
              "    <tr>\n",
              "      <th>997</th>\n",
              "      <td>997</td>\n",
              "      <td>e</td>\n",
              "      <td>[singular, one, ., ``, until, the, shocks, of,...</td>\n",
              "      <td>['singular', 'one', 'shock', 'volcano', 'shall...</td>\n",
              "    </tr>\n",
              "    <tr>\n",
              "      <th>998</th>\n",
              "      <td>998</td>\n",
              "      <td>e</td>\n",
              "      <td>[islands, only, appeared, in, the, months, of,...</td>\n",
              "      <td>['island', 'appear', 'month', 'steady', 'sail'...</td>\n",
              "    </tr>\n",
              "    <tr>\n",
              "      <th>999</th>\n",
              "      <td>999</td>\n",
              "      <td>e</td>\n",
              "      <td>[which, is, illustrated, by, a, very, curious,...</td>\n",
              "      <td>['illustrate', 'curious', 'anecdote', 'pictori...</td>\n",
              "    </tr>\n",
              "  </tbody>\n",
              "</table>\n",
              "<p>1000 rows × 4 columns</p>\n",
              "</div>\n",
              "      <button class=\"colab-df-convert\" onclick=\"convertToInteractive('df-97419dcb-ea46-4db5-871f-aa2bae93dd60')\"\n",
              "              title=\"Convert this dataframe to an interactive table.\"\n",
              "              style=\"display:none;\">\n",
              "        \n",
              "  <svg xmlns=\"http://www.w3.org/2000/svg\" height=\"24px\"viewBox=\"0 0 24 24\"\n",
              "       width=\"24px\">\n",
              "    <path d=\"M0 0h24v24H0V0z\" fill=\"none\"/>\n",
              "    <path d=\"M18.56 5.44l.94 2.06.94-2.06 2.06-.94-2.06-.94-.94-2.06-.94 2.06-2.06.94zm-11 1L8.5 8.5l.94-2.06 2.06-.94-2.06-.94L8.5 2.5l-.94 2.06-2.06.94zm10 10l.94 2.06.94-2.06 2.06-.94-2.06-.94-.94-2.06-.94 2.06-2.06.94z\"/><path d=\"M17.41 7.96l-1.37-1.37c-.4-.4-.92-.59-1.43-.59-.52 0-1.04.2-1.43.59L10.3 9.45l-7.72 7.72c-.78.78-.78 2.05 0 2.83L4 21.41c.39.39.9.59 1.41.59.51 0 1.02-.2 1.41-.59l7.78-7.78 2.81-2.81c.8-.78.8-2.07 0-2.86zM5.41 20L4 18.59l7.72-7.72 1.47 1.35L5.41 20z\"/>\n",
              "  </svg>\n",
              "      </button>\n",
              "      \n",
              "  <style>\n",
              "    .colab-df-container {\n",
              "      display:flex;\n",
              "      flex-wrap:wrap;\n",
              "      gap: 12px;\n",
              "    }\n",
              "\n",
              "    .colab-df-convert {\n",
              "      background-color: #E8F0FE;\n",
              "      border: none;\n",
              "      border-radius: 50%;\n",
              "      cursor: pointer;\n",
              "      display: none;\n",
              "      fill: #1967D2;\n",
              "      height: 32px;\n",
              "      padding: 0 0 0 0;\n",
              "      width: 32px;\n",
              "    }\n",
              "\n",
              "    .colab-df-convert:hover {\n",
              "      background-color: #E2EBFA;\n",
              "      box-shadow: 0px 1px 2px rgba(60, 64, 67, 0.3), 0px 1px 3px 1px rgba(60, 64, 67, 0.15);\n",
              "      fill: #174EA6;\n",
              "    }\n",
              "\n",
              "    [theme=dark] .colab-df-convert {\n",
              "      background-color: #3B4455;\n",
              "      fill: #D2E3FC;\n",
              "    }\n",
              "\n",
              "    [theme=dark] .colab-df-convert:hover {\n",
              "      background-color: #434B5C;\n",
              "      box-shadow: 0px 1px 3px 1px rgba(0, 0, 0, 0.15);\n",
              "      filter: drop-shadow(0px 1px 2px rgba(0, 0, 0, 0.3));\n",
              "      fill: #FFFFFF;\n",
              "    }\n",
              "  </style>\n",
              "\n",
              "      <script>\n",
              "        const buttonEl =\n",
              "          document.querySelector('#df-97419dcb-ea46-4db5-871f-aa2bae93dd60 button.colab-df-convert');\n",
              "        buttonEl.style.display =\n",
              "          google.colab.kernel.accessAllowed ? 'block' : 'none';\n",
              "\n",
              "        async function convertToInteractive(key) {\n",
              "          const element = document.querySelector('#df-97419dcb-ea46-4db5-871f-aa2bae93dd60');\n",
              "          const dataTable =\n",
              "            await google.colab.kernel.invokeFunction('convertToInteractive',\n",
              "                                                     [key], {});\n",
              "          if (!dataTable) return;\n",
              "\n",
              "          const docLinkHtml = 'Like what you see? Visit the ' +\n",
              "            '<a target=\"_blank\" href=https://colab.research.google.com/notebooks/data_table.ipynb>data table notebook</a>'\n",
              "            + ' to learn more about interactive tables.';\n",
              "          element.innerHTML = '';\n",
              "          dataTable['output_type'] = 'display_data';\n",
              "          await google.colab.output.renderOutput(dataTable, element);\n",
              "          const docLink = document.createElement('div');\n",
              "          docLink.innerHTML = docLinkHtml;\n",
              "          element.appendChild(docLink);\n",
              "        }\n",
              "      </script>\n",
              "    </div>\n",
              "  </div>\n",
              "  "
            ],
            "text/plain": [
              "     Unnamed: 0 Author                                               Text  \\\n",
              "0             0      a  [the, next, second, he, had, raised, the, surp...   \n",
              "1             1      a  [“, you, ’, re, too, young, to, be, a, brigadi...   \n",
              "2             2      a  [kapay, ., he, was, scarcely, older, than, phi...   \n",
              "3             3      a  [we, had, in, the, dago, country, and, up, wit...   \n",
              "4             4      a  [now, being, idly, collected, ., into, these, ...   \n",
              "..          ...    ...                                                ...   \n",
              "995         995      e  [illustrated, ., 12mo, ., cloth, ,, $, 1.50.ch...   \n",
              "996         996      e  [to, pour, in, ,, at, first, in, tens, and, th...   \n",
              "997         997      e  [singular, one, ., ``, until, the, shocks, of,...   \n",
              "998         998      e  [islands, only, appeared, in, the, months, of,...   \n",
              "999         999      e  [which, is, illustrated, by, a, very, curious,...   \n",
              "\n",
              "                                            text_final  \n",
              "0    ['next', 'second', 'raise', 'surprised', 'fili...  \n",
              "1    ['young', 'although', 'get', 'star', 'phil', '...  \n",
              "2    ['kapay', 'scarcely', 'old', 'phil', 'yet', 'h...  \n",
              "3    ['dago', 'country', 'pigtailed', 'midshipman',...  \n",
              "4    ['idly', 'collect', 'spacious', 'storehouses',...  \n",
              "..                                                 ...  \n",
              "995  ['illustrate', 'cloth', 'career', 'story', 'gi...  \n",
              "996  ['pour', 'first', 'ten', 'hundred', 'sound', '...  \n",
              "997  ['singular', 'one', 'shock', 'volcano', 'shall...  \n",
              "998  ['island', 'appear', 'month', 'steady', 'sail'...  \n",
              "999  ['illustrate', 'curious', 'anecdote', 'pictori...  \n",
              "\n",
              "[1000 rows x 4 columns]"
            ]
          },
          "metadata": {},
          "execution_count": 11
        }
      ]
    },
    {
      "cell_type": "code",
      "source": [
        "from sklearn.preprocessing import LabelEncoder\n",
        "y = books_sample['Author']\n",
        "labelencoder = LabelEncoder()\n",
        "y = labelencoder.fit_transform(y)\n"
      ],
      "metadata": {
        "id": "MIUVnpSg3IRT"
      },
      "execution_count": 12,
      "outputs": []
    },
    {
      "cell_type": "code",
      "source": [
        "books_sample['encoded_author']=y"
      ],
      "metadata": {
        "id": "jBJVztiR3sVF"
      },
      "execution_count": 13,
      "outputs": []
    },
    {
      "cell_type": "code",
      "execution_count": 14,
      "metadata": {
        "id": "OT-6wGMqwnzN"
      },
      "outputs": [],
      "source": [
        "tfidf = TfidfVectorizer(\n",
        "    min_df = 5,\n",
        "    max_df = 0.95,\n",
        "    max_features = 8000,\n",
        ")\n",
        "tfidf.fit(books_sample['text_final'])\n",
        "text = tfidf.transform(books_sample['text_final'])"
      ]
    },
    {
      "cell_type": "code",
      "execution_count": 15,
      "metadata": {
        "colab": {
          "base_uri": "https://localhost:8080/"
        },
        "id": "Mum_tR3hwu2d",
        "outputId": "473c274c-e918-4ced-c6c2-c59e728526bf"
      },
      "outputs": [
        {
          "output_type": "execute_result",
          "data": {
            "text/plain": [
              "<1000x2534 sparse matrix of type '<class 'numpy.float64'>'\n",
              "\twith 51528 stored elements in Compressed Sparse Row format>"
            ]
          },
          "metadata": {},
          "execution_count": 15
        }
      ],
      "source": [
        "text"
      ]
    },
    {
      "cell_type": "code",
      "source": [
        "from sklearn.decomposition import TruncatedSVD\n",
        "svd = TruncatedSVD(n_components=2, random_state=42)\n",
        "X_svd = svd.fit_transform(text)\n",
        "print(f\"Total variance explained: {np.sum(svd.explained_variance_ratio_):.2f}\")"
      ],
      "metadata": {
        "colab": {
          "base_uri": "https://localhost:8080/"
        },
        "id": "Se9z6QzpT_RH",
        "outputId": "86eee090-7626-4c2b-ad5c-ecb03a8bae48"
      },
      "execution_count": 19,
      "outputs": [
        {
          "output_type": "stream",
          "name": "stdout",
          "text": [
            "Total variance explained: 0.02\n"
          ]
        }
      ]
    },
    {
      "cell_type": "code",
      "execution_count": 20,
      "metadata": {
        "id": "-CjBy1QRxMPN"
      },
      "outputs": [],
      "source": [
        "from sklearn.mixture import GaussianMixture\n",
        "from matplotlib import pyplot as plt\n",
        "import seaborn as sns\n",
        "sns.set()\n",
        "# n_components = np.arange(1, 21)\n",
        "# models = [GaussianMixture(n, covariance_type='full', random_state=0).fit(X_svd) for n in n_components]\n",
        "# plt.plot(n_components, [m.bic(text.toarray()) for m in models], label='BIC')\n",
        "# plt.plot(n_components, [m.aic(text.toarray()) for m in models], label='AIC')\n",
        "# plt.legend(loc='best')\n",
        "# plt.xlabel('n_components');"
      ]
    },
    {
      "cell_type": "code",
      "source": [
        "# gmm = GaussianMixture(n_components=5)\n",
        "# gmm.fit(X_svd)\n",
        "\n",
        "# labels = gmm.predict(X_svd)\n",
        "# plt.scatter(X_svd[:, 0], X_svd[:, 1], c=labels, cmap='viridis');\n",
        "\n",
        "# gmm.predict_proba(X_svd)"
      ],
      "metadata": {
        "id": "CIFFSaD59IAI"
      },
      "execution_count": null,
      "outputs": []
    },
    {
      "cell_type": "code",
      "source": [
        "# from sklearn.preprocessing import LabelEncoder\n",
        "# labelencoder = LabelEncoder()\n",
        "# authors = labelencoder.fit_transform(books_sample['Author'])a"
      ],
      "metadata": {
        "id": "qk8UjBi7WIHP"
      },
      "execution_count": null,
      "outputs": []
    },
    {
      "cell_type": "code",
      "source": [
        "from sklearn.metrics import silhouette_score\n",
        "from sklearn.metrics import cohen_kappa_score\n",
        "\n",
        "for i in [2, 3, 4, 5,6,7,8]:\n",
        "    gmm = GaussianMixture(n_components=i)\n",
        "    #gmm.fit(X_svd)\n",
        "    labels=gmm.fit_predict(X_svd,y)\n",
        "    score = silhouette_score(X_svd, labels, metric='euclidean')\n",
        "    print(\"silhouette coefficient for \",i,\" clusters s:\", score,\"k: \",cohen_kappa_score(y, labels))"
      ],
      "metadata": {
        "colab": {
          "base_uri": "https://localhost:8080/"
        },
        "id": "dMCryMf30e2H",
        "outputId": "05c4b448-6607-4f83-fd80-6a8f1050f614"
      },
      "execution_count": 21,
      "outputs": [
        {
          "output_type": "stream",
          "name": "stdout",
          "text": [
            "silhouette coefficient for  2  clusters s: 0.7269441074985081 k:  -0.2350000000000001\n",
            "silhouette coefficient for  3  clusters s: 0.33948235872623117 k:  0.06374999999999997\n",
            "silhouette coefficient for  4  clusters s: 0.38680290470005596 k:  -0.0887500000000001\n",
            "silhouette coefficient for  5  clusters s: 0.3634179827250403 k:  0.03374999999999995\n",
            "silhouette coefficient for  6  clusters s: 0.3659691587949941 k:  -0.04933726067746713\n",
            "silhouette coefficient for  7  clusters s: 0.35506634497469 k:  0.23439340400471131\n",
            "silhouette coefficient for  8  clusters s: 0.34508737876786333 k:  -0.06728802000454648\n"
          ]
        }
      ]
    },
    {
      "cell_type": "code",
      "source": [
        "from sklearn.decomposition import TruncatedSVD\n",
        "svd = TruncatedSVD(n_components=2, random_state=42)\n",
        "X_svd = svd.fit_transform(text)\n",
        "print(f\"Total variance explained: {np.sum(svd.explained_variance_ratio_):.2f}\")\n",
        "from sklearn.mixture import GaussianMixture\n",
        "from matplotlib import pyplot as plt\n",
        "import seaborn as sns\n",
        "sns.set()\n",
        "# n_components = np.arange(1, 21)\n",
        "# models = [GaussianMixture(n, covariance_type='full', random_state=0).fit(X_svd) for n in n_components]\n",
        "# plt.plot(n_components, [m.bic(text.toarray()) for m in models], label='BIC')\n",
        "# plt.plot(n_components, [m.aic(text.toarray()) for m in models], label='AIC')\n",
        "# plt.legend(loc='best')\n",
        "# plt.xlabel('n_components');\n",
        "gmm = GaussianMixture(n_components=5)\n",
        "#gmm.fit(X_svd)\n",
        "\n",
        "#labels = gmm.predict(X_svd) \n",
        "labels=gmm.fit_predict(X_svd, y)\n",
        "plt.scatter(X_svd[:, 0], X_svd[:, 1], c=labels, cmap='viridis');\n",
        "\n",
        "gmm.predict_proba(X_svd)\n"
      ],
      "metadata": {
        "colab": {
          "base_uri": "https://localhost:8080/",
          "height": 511
        },
        "id": "2YT_RY__XPT_",
        "outputId": "9248c5d4-3998-4ef5-b937-902a1cee4564"
      },
      "execution_count": 22,
      "outputs": [
        {
          "output_type": "stream",
          "name": "stdout",
          "text": [
            "Total variance explained: 0.02\n"
          ]
        },
        {
          "output_type": "execute_result",
          "data": {
            "text/plain": [
              "array([[7.08455254e-02, 1.54594053e-11, 1.65559976e-02, 2.50636717e-05,\n",
              "        9.12573413e-01],\n",
              "       [1.33602475e-03, 3.09312781e-09, 5.45209745e-02, 4.63356880e-07,\n",
              "        9.44142534e-01],\n",
              "       [1.21641612e-01, 5.55838850e-12, 1.24845773e-02, 5.71237443e-05,\n",
              "        8.65816687e-01],\n",
              "       ...,\n",
              "       [8.28286584e-01, 1.97295182e-13, 3.48590985e-02, 3.50998432e-03,\n",
              "        1.33344333e-01],\n",
              "       [1.13134389e-01, 2.81811630e-11, 4.20842549e-02, 5.89221277e-05,\n",
              "        8.44722434e-01],\n",
              "       [4.70477009e-01, 4.31055173e-11, 5.13364311e-01, 1.32193710e-02,\n",
              "        2.93930892e-03]])"
            ]
          },
          "metadata": {},
          "execution_count": 22
        },
        {
          "output_type": "display_data",
          "data": {
            "image/png": "[encoded data removed]",
            "text/plain": [
              "<Figure size 432x288 with 1 Axes>"
            ]
          },
          "metadata": {}
        }
      ]
    },
    {
      "cell_type": "code",
      "source": [
        "from sklearn.metrics import silhouette_score\n",
        "score = silhouette_score(X_svd, labels, metric='euclidean')\n",
        "print(score)"
      ],
      "metadata": {
        "colab": {
          "base_uri": "https://localhost:8080/"
        },
        "id": "uQ8rZdRuXWR0",
        "outputId": "036909c3-11a6-431c-aa7a-fccb15ac7d67"
      },
      "execution_count": 23,
      "outputs": [
        {
          "output_type": "stream",
          "name": "stdout",
          "text": [
            "0.3709834556273885\n"
          ]
        }
      ]
    },
    {
      "cell_type": "code",
      "source": [
        "len(X_svd[0])"
      ],
      "metadata": {
        "colab": {
          "base_uri": "https://localhost:8080/"
        },
        "id": "d--bpi8dYjmo",
        "outputId": "b66a4cc1-d4e7-45b6-86c3-f084d852899f"
      },
      "execution_count": 24,
      "outputs": [
        {
          "output_type": "execute_result",
          "data": {
            "text/plain": [
              "2"
            ]
          },
          "metadata": {},
          "execution_count": 24
        }
      ]
    },
    {
      "cell_type": "code",
      "source": [
        "from sklearn.metrics import cohen_kappa_score\n",
        "cohen_kappa_score(y, labels)"
      ],
      "metadata": {
        "colab": {
          "base_uri": "https://localhost:8080/"
        },
        "id": "o3rrqnpQYkTi",
        "outputId": "e3c2f5e3-b995-4fc6-fd4d-ac642b8e437b"
      },
      "execution_count": null,
      "outputs": [
        {
          "output_type": "execute_result",
          "data": {
            "text/plain": [
              "0.06125000000000003"
            ]
          },
          "metadata": {},
          "execution_count": 30
        }
      ]
    },
    {
      "cell_type": "code",
      "source": [
        "books_sample['cluster'] = labels\n",
        "books_sample['encoded_author']=y"
      ],
      "metadata": {
        "id": "Dxt6zOc8ZGfF"
      },
      "execution_count": null,
      "outputs": []
    },
    {
      "cell_type": "code",
      "source": [
        "c=0\n",
        "for i in range(0,999):\n",
        "  if(books_sample['cluster'][i]!=books_sample['encoded_author'][i]):\n",
        "    c+=1\n",
        "print(c)"
      ],
      "metadata": {
        "id": "ZvhpMauD3PAW",
        "colab": {
          "base_uri": "https://localhost:8080/"
        },
        "outputId": "947450ca-f81e-469d-ab89-928ac397da35"
      },
      "execution_count": null,
      "outputs": [
        {
          "output_type": "stream",
          "name": "stdout",
          "text": [
            "750\n"
          ]
        }
      ]
    },
    {
      "cell_type": "code",
      "source": [
        "from sklearn.metrics import confusion_matrix\n",
        "x=confusion_matrix(books_sample['encoded_author'],books_sample['cluster'])"
      ],
      "metadata": {
        "id": "0KvqQ6PKtYWH"
      },
      "execution_count": null,
      "outputs": []
    },
    {
      "cell_type": "code",
      "source": [
        "x"
      ],
      "metadata": {
        "colab": {
          "base_uri": "https://localhost:8080/"
        },
        "id": "fxaDEhYzvIQe",
        "outputId": "9b7dc4d2-848a-4f35-edf5-71a24f424829"
      },
      "execution_count": null,
      "outputs": [
        {
          "output_type": "execute_result",
          "data": {
            "text/plain": [
              "array([[ 14,   0,  16, 170,   0],\n",
              "       [  8,  85,   0,   0, 107],\n",
              "       [123,   0,  70,   7,   0],\n",
              "       [  9,   0, 114,  77,   0],\n",
              "       [ 56,   0,  78,  63,   3]])"
            ]
          },
          "metadata": {},
          "execution_count": 36
        }
      ]
    }
  ],
  "metadata": {
    "colab": {
      "name": "em tfidf.ipynb",
      "provenance": [],
      "collapsed_sections": []
    },
    "kernelspec": {
      "display_name": "Python 3",
      "name": "python3"
    },
    "language_info": {
      "name": "python"
    }
  },
  "nbformat": 4,
  "nbformat_minor": 0
}