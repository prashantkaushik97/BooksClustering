{
  "nbformat": 4,
  "nbformat_minor": 0,
  "metadata": {
    "colab": {
      "name": "BOWkmeans.ipynb",
      "provenance": []
    },
    "kernelspec": {
      "name": "python3",
      "display_name": "Python 3"
    },
    "language_info": {
      "name": "python"
    }
  },
  "cells": [
    {
      "cell_type": "code",
      "execution_count": null,
      "metadata": {
        "id": "dKk_eMqtMme1"
      },
      "outputs": [],
      "source": [
        "import pandas as pd\n",
        "import nltk\n",
        "import string\n",
        "from nltk.corpus import stopwords\n",
        "from nltk.stem import WordNetLemmatizer\n",
        "from sklearn.preprocessing import LabelEncoder\n",
        "from PIL import Image\n",
        "from wordcloud import WordCloud\n",
        "import matplotlib.pyplot as plt\n",
        "from sklearn.feature_extraction.text import CountVectorizer\n",
        "from sklearn.cluster import KMeans  \n"
      ]
    },
    {
      "cell_type": "code",
      "source": [
        "import matplotlib.cm as cm\n",
        "from sklearn.decomposition import PCA\n",
        "from sklearn.manifold import TSNE\n",
        "import numpy as np"
      ],
      "metadata": {
        "id": "OegnuPY_WVml"
      },
      "execution_count": null,
      "outputs": []
    },
    {
      "cell_type": "code",
      "source": [
        "nltk.download('wordnet')\n",
        "nltk.download('stopwords')"
      ],
      "metadata": {
        "colab": {
          "base_uri": "https://localhost:8080/"
        },
        "id": "sFPkDfz8MzJ7",
        "outputId": "17ee0f6b-a82a-4dfe-ddf5-22c58a5d3066"
      },
      "execution_count": null,
      "outputs": [
        {
          "output_type": "stream",
          "name": "stdout",
          "text": [
            "[nltk_data] Downloading package wordnet to /root/nltk_data...\n",
            "[nltk_data]   Unzipping corpora/wordnet.zip.\n",
            "[nltk_data] Downloading package stopwords to /root/nltk_data...\n",
            "[nltk_data]   Unzipping corpora/stopwords.zip.\n"
          ]
        },
        {
          "output_type": "execute_result",
          "data": {
            "text/plain": [
              "True"
            ]
          },
          "metadata": {},
          "execution_count": 3
        }
      ]
    },
    {
      "cell_type": "code",
      "source": [
        "books_sample = pd.read_csv('books_data.csv')"
      ],
      "metadata": {
        "id": "iyQ8YWLWM1H0"
      },
      "execution_count": null,
      "outputs": []
    },
    {
      "cell_type": "code",
      "source": [
        "x = books_sample[\"Text\"] "
      ],
      "metadata": {
        "id": "cYDdBYrqNUoV"
      },
      "execution_count": null,
      "outputs": []
    },
    {
      "cell_type": "code",
      "source": [
        "from sklearn.preprocessing import LabelEncoder\n",
        "y = books_sample['Author']\n",
        "labelencoder = LabelEncoder()\n",
        "y = labelencoder.fit_transform(y)"
      ],
      "metadata": {
        "id": "EtZNw8YqASzk"
      },
      "execution_count": null,
      "outputs": []
    },
    {
      "cell_type": "code",
      "source": [
        "lemmatiser = WordNetLemmatizer()\n",
        "#Add a condition to check for digits\n",
        "def text_process(tex):\n",
        "    # 1. Removal of Punctuation Marks \n",
        "    nopunct=[char for char in tex if char not in string.punctuation]\n",
        "    nopunct=''.join(nopunct)\n",
        "    # 2. Lemmatisation \n",
        "    a=''\n",
        "    i=0\n",
        "    for i in range(len(nopunct.split())):\n",
        "        b=lemmatiser.lemmatize(nopunct.split()[i], pos=\"v\")\n",
        "        a=a+b+' '\n",
        "    # 3. Removal of Stopwords\n",
        "    return [word for word in a.split() if word.lower() not \n",
        "            in stopwords.words('english')]"
      ],
      "metadata": {
        "id": "dNam8_xhM-IB"
      },
      "execution_count": null,
      "outputs": []
    },
    {
      "cell_type": "code",
      "source": [
        "bow_transformer=CountVectorizer(analyzer=text_process).fit(x)\n",
        "text=bow_transformer.transform(x)"
      ],
      "metadata": {
        "id": "t-CJB39nNO8S"
      },
      "execution_count": null,
      "outputs": []
    },
    {
      "cell_type": "code",
      "source": [
        "from sklearn.decomposition import TruncatedSVD\n",
        "svd = TruncatedSVD(n_components=2, random_state=42)\n",
        "X_svd = svd.fit_transform(text)\n",
        "print(f\"Total variance explained: {np.sum(svd.explained_variance_ratio_):.2f}\")"
      ],
      "metadata": {
        "colab": {
          "base_uri": "https://localhost:8080/"
        },
        "id": "8OtAuDZHADV2",
        "outputId": "41278ed5-7c84-41eb-bbe8-cebab8dc048c"
      },
      "execution_count": null,
      "outputs": [
        {
          "output_type": "stream",
          "name": "stdout",
          "text": [
            "Total variance explained: 0.00\n"
          ]
        }
      ]
    },
    {
      "cell_type": "code",
      "source": [
        "from sklearn.preprocessing import StandardScaler"
      ],
      "metadata": {
        "id": "eF0SbjyTXv3v"
      },
      "execution_count": null,
      "outputs": []
    },
    {
      "cell_type": "code",
      "source": [
        "def find_optimal_clusters(data, max_k):\n",
        "    iters = range(2, max_k+1, 1)\n",
        "    \n",
        "    sse = []\n",
        "    for k in iters:\n",
        "        sse.append(KMeans(n_clusters=k, init='k-means++', n_init=10, max_iter=100, random_state=42).fit(data).inertia_)\n",
        "        print('Fit {} clusters'.format(k))\n",
        "        \n",
        "    f, ax = plt.subplots(1, 1)\n",
        "    ax.plot(iters, sse, marker='o')\n",
        "    ax.set_xlabel('Cluster Centers')\n",
        "    ax.set_xticks(iters)\n",
        "    ax.set_xticklabels(iters)\n",
        "    ax.set_ylabel('SSE')\n",
        "    ax.set_title('SSE by Cluster Center Plot')\n",
        "    \n",
        "find_optimal_clusters(X_svd, 14)"
      ],
      "metadata": {
        "colab": {
          "base_uri": "https://localhost:8080/",
          "height": 526
        },
        "id": "_dKMsZY9WL80",
        "outputId": "6238387e-d2ad-4e0b-ee31-0d67fc367ad8"
      },
      "execution_count": null,
      "outputs": [
        {
          "output_type": "stream",
          "name": "stdout",
          "text": [
            "Fit 2 clusters\n",
            "Fit 3 clusters\n",
            "Fit 4 clusters\n",
            "Fit 5 clusters\n",
            "Fit 6 clusters\n",
            "Fit 7 clusters\n",
            "Fit 8 clusters\n",
            "Fit 9 clusters\n",
            "Fit 10 clusters\n",
            "Fit 11 clusters\n",
            "Fit 12 clusters\n",
            "Fit 13 clusters\n",
            "Fit 14 clusters\n"
          ]
        },
        {
          "output_type": "display_data",
          "data": {
            "image/png": "[encoded data removed]",
            "text/plain": [
              "<Figure size 432x288 with 1 Axes>"
            ]
          },
          "metadata": {
            "needs_background": "light"
          }
        }
      ]
    },
    {
      "cell_type": "code",
      "source": [
        "from sklearn.metrics import silhouette_score\n",
        "\n",
        "for i in [2, 3, 4, 5,6,8]:\n",
        "    km = KMeans(n_clusters=i, init='k-means++', n_init=9, max_iter=12, random_state=32)\n",
        "    km.fit(X_svd)\n",
        "    score = silhouette_score(X_svd, km.labels_, metric='euclidean')\n",
        "    print(score)\n",
        "    "
      ],
      "metadata": {
        "colab": {
          "base_uri": "https://localhost:8080/"
        },
        "id": "BM8Yy_3L-MCl",
        "outputId": "3de4688d-fa63-4e85-e75f-f1a04d73404e"
      },
      "execution_count": null,
      "outputs": [
        {
          "output_type": "stream",
          "name": "stdout",
          "text": [
            "0.48117701062325524\n",
            "0.46215278734753246\n",
            "0.4362014263980916\n",
            "0.4428156273957759\n",
            "0.4414007467514982\n",
            "0.38776081592202194\n"
          ]
        }
      ]
    },
    {
      "cell_type": "code",
      "source": [
        "km_clusters = KMeans(n_clusters=5, init='k-means++', n_init=9, max_iter=12, random_state=32).fit_predict(X_svd, y)\n",
        "books_sample['cluster'] = km_clusters"
      ],
      "metadata": {
        "id": "pPPiZR8C-Q8r"
      },
      "execution_count": null,
      "outputs": []
    },
    {
      "cell_type": "code",
      "source": [
        "books_sample['encoded_author']=y"
      ],
      "metadata": {
        "id": "UVSQTPcaA58o"
      },
      "execution_count": null,
      "outputs": []
    },
    {
      "cell_type": "code",
      "source": [
        "from sklearn.metrics import cohen_kappa_score\n",
        "cohen_kappa_score(y, km_clusters)"
      ],
      "metadata": {
        "id": "SdgWvW7NEI0c",
        "outputId": "31521578-3f44-4eee-c188-ff358163da7a",
        "colab": {
          "base_uri": "https://localhost:8080/"
        }
      },
      "execution_count": null,
      "outputs": [
        {
          "output_type": "execute_result",
          "data": {
            "text/plain": [
              "0.011249999999999982"
            ]
          },
          "metadata": {},
          "execution_count": 24
        }
      ]
    },
    {
      "cell_type": "code",
      "source": [
        "c=0\n",
        "\n",
        "for i in range(0,999):\n",
        "\n",
        "  if(books_sample['cluster'][i]!=books_sample['encoded_author'][i]):\n",
        "\n",
        "    c+=1\n",
        "\n",
        "print(c)"
      ],
      "metadata": {
        "colab": {
          "base_uri": "https://localhost:8080/"
        },
        "id": "wikZHEuS_1eQ",
        "outputId": "d70b5380-27f4-45d7-99c4-0417f758e9e1"
      },
      "execution_count": null,
      "outputs": [
        {
          "output_type": "stream",
          "name": "stdout",
          "text": [
            "790\n"
          ]
        }
      ]
    },
    {
      "cell_type": "code",
      "source": [
        "def plot_scatter(data, labels):\n",
        "    max_label = max(labels)\n",
        "    max_items = np.random.choice(range(data.shape[0]), size=3000)\n",
        "    pca = PCA(n_components=2).fit_transform(data[max_items,:].todense())\n",
        "    svd = TruncatedSVD(n_components=2, random_state=42).fit_transform(data[max_items,:].todense())    \n",
        "    idx = np.random.choice(range(pca.shape[0]), size=300, replace=False)\n",
        "    label_subset = labels[max_items]\n",
        "    label_subset = [cm.hsv(i/max_label) for i in label_subset[idx]]\n",
        "    plt.scatter(svd[idx, 0], svd[idx, 1], c=label_subset)\n",
        "    plt.show()\n",
        "\n",
        "plot_scatter(text, km_clusters)"
      ],
      "metadata": {
        "colab": {
          "base_uri": "https://localhost:8080/",
          "height": 356
        },
        "id": "dE2nBa7P-lAE",
        "outputId": "92ed1d67-a212-478f-8d18-1bc3dcae9c6f"
      },
      "execution_count": null,
      "outputs": [
        {
          "output_type": "stream",
          "name": "stderr",
          "text": [
            "/usr/local/lib/python3.7/dist-packages/sklearn/utils/validation.py:598: FutureWarning: np.matrix usage is deprecated in 1.0 and will raise a TypeError in 1.2. Please convert to a numpy array with np.asarray. For more information see: https://numpy.org/doc/stable/reference/generated/numpy.matrix.html\n",
            "  FutureWarning,\n",
            "/usr/local/lib/python3.7/dist-packages/sklearn/utils/validation.py:598: FutureWarning: np.matrix usage is deprecated in 1.0 and will raise a TypeError in 1.2. Please convert to a numpy array with np.asarray. For more information see: https://numpy.org/doc/stable/reference/generated/numpy.matrix.html\n",
            "  FutureWarning,\n"
          ]
        },
        {
          "output_type": "display_data",
          "data": {
            "image/png": "[encoded data removed]",
            "text/plain": [
              "<Figure size 432x288 with 1 Axes>"
            ]
          },
          "metadata": {
            "needs_background": "light"
          }
        }
      ]
    }
  ]
}